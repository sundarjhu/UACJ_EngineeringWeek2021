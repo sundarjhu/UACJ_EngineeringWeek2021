{
  "nbformat": 4,
  "nbformat_minor": 0,
  "metadata": {
    "colab": {
      "name": "Escuela de Verano 2021 Demo 1.ipynb",
      "provenance": [],
      "authorship_tag": "ABX9TyOHTF/gVp3uBKWMFEsxbCbN",
      "include_colab_link": true
    },
    "kernelspec": {
      "name": "python3",
      "display_name": "Python 3"
    },
    "language_info": {
      "name": "python"
    }
  },
  "cells": [
    {
      "cell_type": "markdown",
      "metadata": {
        "id": "view-in-github",
        "colab_type": "text"
      },
      "source": [
        "<a href=\"https://colab.research.google.com/github/sundarjhu/UACJ_EngineeringWeek2021/blob/main/Astropy_Demo.ipynb\" target=\"_parent\"><img src=\"https://colab.research.google.com/assets/colab-badge.svg\" alt=\"Open In Colab\"/></a>"
      ]
    },
    {
      "cell_type": "code",
      "metadata": {
        "id": "cZAmIFZQNueG"
      },
      "source": [
        "__author__ = 'Sundar Srinivasan <s.srinivasan@irya.unam.mx>'\n",
        "__version__ = '20210913'\n",
        "__datasets__ = ['SIMBAD']  # datos usados en este notebook\n",
        "__keywords__ = ['UACJ', 'Engineering Week', '2021', 'astropy', 'Table'], # palabras clave relevantes a este notebook"
      ],
      "execution_count": null,
      "outputs": []
    },
    {
      "cell_type": "markdown",
      "metadata": {
        "id": "XnuGivmc94gg"
      },
      "source": [
        "# **Demonstration of the Astropy Table format**\n",
        "\n",
        "---\n",
        "\n",
        "\n",
        "\n",
        "---\n",
        "\n"
      ]
    },
    {
      "cell_type": "code",
      "metadata": {
        "id": "wsnw6qMs0GJP"
      },
      "source": [
        "from astropy.table import Table, join\n",
        "import numpy as np"
      ],
      "execution_count": null,
      "outputs": []
    },
    {
      "cell_type": "markdown",
      "metadata": {
        "id": "_uEohPj15t0M"
      },
      "source": [
        "## We will first construct a table with some basic information -- positions for five stars"
      ]
    },
    {
      "cell_type": "code",
      "metadata": {
        "id": "heWWfu810Oa9"
      },
      "source": [
        "id = ['lam Vel', 'IRAS 16205-2626', 'eta Car', 'alp Cen', 'IRC +10216'] #unique identifiers for three stars\n",
        "RA = [136.9989911, 245.9133333, 161.2649625, 219.8738330, 146.989193] #right ascension\n",
        "DEC = [-43.4325909, -26.5547222, -59.6845167, -60.8322220, 13.2787680] #declination\n",
        "basic_info = Table([id, RA, DEC], names = ('ID', 'RA', 'DEC'))\n",
        "basic_info"
      ],
      "execution_count": null,
      "outputs": []
    },
    {
      "cell_type": "markdown",
      "metadata": {
        "id": "TkAKU_Gk9Yvq"
      },
      "source": [
        "### You can view the column names without having to view the entire file"
      ]
    },
    {
      "cell_type": "code",
      "metadata": {
        "id": "Fg4uPt8j9dzo"
      },
      "source": [
        "basic_info.colnames"
      ],
      "execution_count": null,
      "outputs": []
    },
    {
      "cell_type": "markdown",
      "metadata": {
        "id": "4efpq5mMlYLX"
      },
      "source": [
        "### You can add, remove, or rename the columns"
      ]
    },
    {
      "cell_type": "code",
      "metadata": {
        "id": "8Fk41BcHlcez"
      },
      "source": [
        "temp = basic_info.copy() #copying to a temporary table that we'll mess around with.\n",
        "temp['facility'] = ['Gaia', '2MASS', 'Gaia', 'Gaia', 'Gaia'] #adding a column\n",
        "temp.pprint()\n",
        "temp.remove_columns(['RA', 'DEC'])\n",
        "temp.pprint()\n",
        "temp.rename_columns(['facility'], ['telescope'])\n",
        "temp.pprint()"
      ],
      "execution_count": null,
      "outputs": []
    },
    {
      "cell_type": "markdown",
      "metadata": {
        "id": "DjYYnKRi5077"
      },
      "source": [
        "## Construct another table, this one with distances and proper motions for three stars"
      ]
    },
    {
      "cell_type": "code",
      "metadata": {
        "id": "Q-mpj94G3N06",
        "colab": {
          "base_uri": "https://localhost:8080/",
          "height": 143
        },
        "outputId": "4da4e3f3-253e-4664-f888-259b8f9b8e57"
      },
      "source": [
        "id = ['V838 Mon', 'alp Cen', 'IRC +10216']\n",
        "d = [5900, 1.34, 90] # distances in pc\n",
        "PM_RA = [-0.536, -3608, 33.84] # proper motion component along RA in milliarcsec/yr\n",
        "PM_DEC = [0.078, 686, 10.0] # proper motion component along DEC in milliarcsec/yr\n",
        "other_info = Table([id, d, PM_RA, PM_DEC], names = ('ID', 'distance', 'PM_RA', 'PM_DEC'))\n",
        "other_info"
      ],
      "execution_count": null,
      "outputs": [
        {
          "output_type": "execute_result",
          "data": {
            "text/html": [
              "<i>Table length=3</i>\n",
              "<table id=\"table140564760231824\" class=\"table-striped table-bordered table-condensed\">\n",
              "<thead><tr><th>ID</th><th>distance</th><th>PM_RA</th><th>PM_DEC</th></tr></thead>\n",
              "<thead><tr><th>str10</th><th>float64</th><th>float64</th><th>float64</th></tr></thead>\n",
              "<tr><td>V838 Mon</td><td>5900.0</td><td>-0.536</td><td>0.078</td></tr>\n",
              "<tr><td>alp Cen</td><td>1.34</td><td>-3608.0</td><td>686.0</td></tr>\n",
              "<tr><td>IRC +10216</td><td>90.0</td><td>33.84</td><td>10.0</td></tr>\n",
              "</table>"
            ],
            "text/plain": [
              "<Table length=3>\n",
              "    ID     distance  PM_RA   PM_DEC\n",
              "  str10    float64  float64 float64\n",
              "---------- -------- ------- -------\n",
              "  V838 Mon   5900.0  -0.536   0.078\n",
              "   alp Cen     1.34 -3608.0   686.0\n",
              "IRC +10216     90.0   33.84    10.0"
            ]
          },
          "metadata": {
            "tags": []
          },
          "execution_count": 23
        }
      ]
    },
    {
      "cell_type": "markdown",
      "metadata": {
        "id": "irKwqyiu5715"
      },
      "source": [
        "## Let's investigate various types of joins using these two tables"
      ]
    },
    {
      "cell_type": "markdown",
      "metadata": {
        "id": "DoejAFGq6C3T"
      },
      "source": [
        "### An inner join is like an intersection -- the resulting table will only contain sources that are present in both tables."
      ]
    },
    {
      "cell_type": "code",
      "metadata": {
        "id": "gQ00FFnV5NKt"
      },
      "source": [
        "inner_join = join(basic_info, other_info, keys = ['ID'], join_type = 'inner')\n",
        "inner_join"
      ],
      "execution_count": null,
      "outputs": []
    },
    {
      "cell_type": "markdown",
      "metadata": {
        "id": "flDt6ZdL6Tv4"
      },
      "source": [
        "### A left join will result in a table with all the rows in the first (\"left\") table. If a row from this table has a match in the second (\"right\") table, it will be shown. If not, the corresponding fields will be empty."
      ]
    },
    {
      "cell_type": "code",
      "metadata": {
        "id": "qRuT2QfV6QrI"
      },
      "source": [
        "left_join = join(basic_info, other_info, keys = ['ID'], join_type = 'left')\n",
        "left_join"
      ],
      "execution_count": null,
      "outputs": []
    },
    {
      "cell_type": "markdown",
      "metadata": {
        "id": "47ouizbq6tTK"
      },
      "source": [
        "### A right join is similar to a left join, but will contain all rows from the second (\"right\") table."
      ]
    },
    {
      "cell_type": "code",
      "metadata": {
        "id": "oALfevxw6mXL"
      },
      "source": [
        "right_join = join(basic_info, other_info, keys = ['ID'], join_type = 'right')\n",
        "right_join"
      ],
      "execution_count": null,
      "outputs": []
    },
    {
      "cell_type": "markdown",
      "metadata": {
        "id": "6-_YqY0p7UkP"
      },
      "source": [
        "## A column with missing fields is represented as a MaskedColumn, making it easier to isolate rows with missing data or to separate them from rows with data."
      ]
    },
    {
      "cell_type": "code",
      "metadata": {
        "id": "at7qpi2164H7"
      },
      "source": [
        "left_join['distance'].mask"
      ],
      "execution_count": null,
      "outputs": []
    },
    {
      "cell_type": "markdown",
      "metadata": {
        "id": "yqx9yI4V70hs"
      },
      "source": [
        "### Here, we isolate the rows of left_join whose distances are unavailable"
      ]
    },
    {
      "cell_type": "code",
      "metadata": {
        "id": "-P3BYIMn7kR3"
      },
      "source": [
        "k = np.nonzero(left_join['distance'].mask)\n",
        "print(left_join[k])"
      ],
      "execution_count": null,
      "outputs": []
    },
    {
      "cell_type": "markdown",
      "metadata": {
        "id": "udffmIDC78Bt"
      },
      "source": [
        "### Conversely, we can isolate the rows of left_join with valid distances"
      ]
    },
    {
      "cell_type": "code",
      "metadata": {
        "id": "V1LqMITm7wXD"
      },
      "source": [
        "k = np.nonzero(~left_join['distance'].mask)\n",
        "print(left_join[k])"
      ],
      "execution_count": null,
      "outputs": []
    },
    {
      "cell_type": "markdown",
      "metadata": {
        "id": "H8roOhZi8k1E"
      },
      "source": [
        "## To save tables to file, we will use the Virtual Observatory Table (VOT) format"
      ]
    },
    {
      "cell_type": "code",
      "metadata": {
        "id": "mFO786OH8qcv"
      },
      "source": [
        "basic_info.write(\"basic_info.vot\", format = 'votable', overwrite = True)\n",
        "#You can also write a subset (rows and/or columns) to file as follows:\n",
        "#basic_info[2:4].write(\"basic_info.vot\", format = 'votable', overwrite = True) #this writes a two-row table to file\n",
        "#basic_info['ID', 'RA'].write(\"basic_info.vot\", format = 'votable', overwrite = True) #this does not write the DEC column to file."
      ],
      "execution_count": null,
      "outputs": []
    },
    {
      "cell_type": "markdown",
      "metadata": {
        "id": "SWosrUXB9OGM"
      },
      "source": [
        "## Reading from a VOTable is also easy"
      ]
    },
    {
      "cell_type": "code",
      "metadata": {
        "id": "vrYLUtK_9LVr"
      },
      "source": [
        "b = Table.read(\"basic_info.vot\", format = 'votable')\n",
        "b"
      ],
      "execution_count": null,
      "outputs": []
    },
    {
      "cell_type": "markdown",
      "metadata": {
        "id": "06HdUdNCvOz8"
      },
      "source": [
        "# Assignment: read the [astropy documentation](https://docs.astropy.org/en/stable/table/index.html) (or use numpy) to solve the following:"
      ]
    },
    {
      "cell_type": "code",
      "metadata": {
        "id": "MBDlDzU-vOPd"
      },
      "source": [
        "galaxy = ['NGC 6822', 'M 87', 'M 33', 'NGC 6822', 'NGC 6822', 'M 33']\n",
        "distance = [586, 53500, 1020, 495, 540, 935] # distance in kpc\n",
        "data = Table([galaxy, distance], names = ('Galaxy', 'Distance'))\n",
        "\n",
        "# Sort this table such that rows for the same galaxy appear together and the entries are in increasing order of distance."
      ],
      "execution_count": null,
      "outputs": []
    },
    {
      "cell_type": "code",
      "metadata": {
        "id": "oApb38J7wnEq"
      },
      "source": [
        ""
      ],
      "execution_count": null,
      "outputs": []
    }
  ]
}